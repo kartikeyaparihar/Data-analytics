{
 "cells": [
  {
   "cell_type": "code",
   "execution_count": 1,
   "id": "ab7ffd94-4139-40e4-a301-01c17ba999f2",
   "metadata": {},
   "outputs": [
    {
     "name": "stdout",
     "output_type": "stream",
     "text": [
      "Requirement already satisfied: beautifulsoup4 in c:\\users\\hp\\appdata\\local\\programs\\python\\python312\\lib\\site-packages (4.12.3)\n",
      "Requirement already satisfied: soupsieve>1.2 in c:\\users\\hp\\appdata\\local\\programs\\python\\python312\\lib\\site-packages (from beautifulsoup4) (2.6)\n",
      "Note: you may need to restart the kernel to use updated packages.\n"
     ]
    },
    {
     "name": "stderr",
     "output_type": "stream",
     "text": [
      "\n",
      "[notice] A new release of pip is available: 24.2 -> 25.0\n",
      "[notice] To update, run: python.exe -m pip install --upgrade pip\n"
     ]
    }
   ],
   "source": [
    "\n",
    "pip install beautifulsoup4\n"
   ]
  },
  {
   "cell_type": "code",
   "execution_count": 2,
   "id": "d9d12e63-7712-416d-9dba-ae7e131b912f",
   "metadata": {},
   "outputs": [],
   "source": [
    "import pandas as pd\n",
    "import requests\n",
    "from bs4 import BeautifulSoup "
   ]
  },
  {
   "cell_type": "code",
   "execution_count": 3,
   "id": "873afd9f-3259-4490-9a3b-7725b6716540",
   "metadata": {},
   "outputs": [
    {
     "data": {
      "text/plain": [
       "'<HTML><HEAD>\\n<TITLE>Access Denied</TITLE>\\n</HEAD><BODY>\\n<H1>Access Denied</H1>\\n \\nYou don\\'t have permission to access \"http&#58;&#47;&#47;www&#46;ambitionbox&#46;com&#47;list&#45;of&#45;companies&#63;\" on this server.<P>\\nReference&#32;&#35;18&#46;66732c31&#46;1738784617&#46;1635c67f\\n<P>https&#58;&#47;&#47;errors&#46;edgesuite&#46;net&#47;18&#46;66732c31&#46;1738784617&#46;1635c67f</P>\\n</BODY>\\n</HTML>\\n'"
      ]
     },
     "execution_count": 3,
     "metadata": {},
     "output_type": "execute_result"
    }
   ],
   "source": [
    "\n",
    "requests.get(\"https://www.ambitionbox.com/list-of-companies?campaign=desktop_nav\").text"
   ]
  },
  {
   "cell_type": "markdown",
   "id": "2c5d49e2-2b8a-411e-a83e-6706c02cc5d0",
   "metadata": {},
   "source": [
    "**403 is a error msg because ambitionbox's robot.txt(aisi files likhte h developers jisko vo nhi chahte ki scrape ho) does not allow us to fetch the code so we have to write a code in which we are specifying that this is not a bot instead a user**"
   ]
  },
  {
   "cell_type": "code",
   "execution_count": null,
   "id": "7355177d-a931-4b94-b282-39916735523f",
   "metadata": {},
   "outputs": [],
   "source": [
    "headers={'User-Agent':'Mozilla/5.0 (Windows NT 6.3; Win 64 ; x64) Apple WeKit /537.36(KHTML , like Gecko) Chrome/80.0.3987.162 Safari/537.36'} \n",
    "url='https://www.ambitionbox.com/list-of-companies?campaign=desktop_nav'\n",
    "requests.get(url, headers=headers).text\n",
    "\n"
   ]
  },
  {
   "cell_type": "code",
   "execution_count": null,
   "id": "515d1163-6cdb-478f-874f-c9c1eedae388",
   "metadata": {},
   "outputs": [],
   "source": []
  },
  {
   "cell_type": "code",
   "execution_count": null,
   "id": "2fc95793-6486-4ea3-b436-513bf4ec38d0",
   "metadata": {},
   "outputs": [],
   "source": [
    "soup = BeutifulSoup(webpage,lxml)\n"
   ]
  },
  {
   "cell_type": "code",
   "execution_count": null,
   "id": "32559107-c723-4153-93a4-497f12c2a3d7",
   "metadata": {},
   "outputs": [],
   "source": [
    "print(soup.prettify)"
   ]
  },
  {
   "cell_type": "code",
   "execution_count": null,
   "id": "5ab09928-0530-42ef-b353-6cbd90d0eb20",
   "metadata": {},
   "outputs": [],
   "source": []
  }
 ],
 "metadata": {
  "kernelspec": {
   "display_name": "Python 3 (ipykernel)",
   "language": "python",
   "name": "python3"
  },
  "language_info": {
   "codemirror_mode": {
    "name": "ipython",
    "version": 3
   },
   "file_extension": ".py",
   "mimetype": "text/x-python",
   "name": "python",
   "nbconvert_exporter": "python",
   "pygments_lexer": "ipython3",
   "version": "3.12.4"
  }
 },
 "nbformat": 4,
 "nbformat_minor": 5
}
